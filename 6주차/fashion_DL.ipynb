{
  "nbformat": 4,
  "nbformat_minor": 0,
  "metadata": {
    "colab": {
      "provenance": [],
      "gpuType": "T4",
      "authorship_tag": "ABX9TyN1hAow9gVby/h10ETRXRiZ",
      "include_colab_link": true
    },
    "kernelspec": {
      "name": "python3",
      "display_name": "Python 3"
    },
    "language_info": {
      "name": "python"
    },
    "accelerator": "GPU"
  },
  "cells": [
    {
      "cell_type": "markdown",
      "metadata": {
        "id": "view-in-github",
        "colab_type": "text"
      },
      "source": [
        "<a href=\"https://colab.research.google.com/github/Kaia-nyoung/2025-ML-class/blob/main/6%EC%A3%BC%EC%B0%A8/fashion_DL.ipynb\" target=\"_parent\"><img src=\"https://colab.research.google.com/assets/colab-badge.svg\" alt=\"Open In Colab\"/></a>"
      ]
    },
    {
      "cell_type": "code",
      "execution_count": 1,
      "metadata": {
        "id": "kduzPzV3dMA7"
      },
      "outputs": [],
      "source": [
        "import tensorflow as tf\n",
        "from tensorflow.keras import layers, models"
      ]
    },
    {
      "cell_type": "code",
      "source": [
        "# 데이터 로드\n",
        "fashion_mnist = tf.keras.datasets.fashion_mnist\n",
        "(x_train, y_train), (x_test, y_test) = fashion_mnist.load_data()"
      ],
      "metadata": {
        "colab": {
          "base_uri": "https://localhost:8080/"
        },
        "id": "Rpcnr-3gdWoZ",
        "outputId": "55610e56-3c34-464f-898f-66c2f2ed9a6f"
      },
      "execution_count": 2,
      "outputs": [
        {
          "output_type": "stream",
          "name": "stdout",
          "text": [
            "Downloading data from https://storage.googleapis.com/tensorflow/tf-keras-datasets/train-labels-idx1-ubyte.gz\n",
            "\u001b[1m29515/29515\u001b[0m \u001b[32m━━━━━━━━━━━━━━━━━━━━\u001b[0m\u001b[37m\u001b[0m \u001b[1m0s\u001b[0m 0us/step\n",
            "Downloading data from https://storage.googleapis.com/tensorflow/tf-keras-datasets/train-images-idx3-ubyte.gz\n",
            "\u001b[1m26421880/26421880\u001b[0m \u001b[32m━━━━━━━━━━━━━━━━━━━━\u001b[0m\u001b[37m\u001b[0m \u001b[1m1s\u001b[0m 0us/step\n",
            "Downloading data from https://storage.googleapis.com/tensorflow/tf-keras-datasets/t10k-labels-idx1-ubyte.gz\n",
            "\u001b[1m5148/5148\u001b[0m \u001b[32m━━━━━━━━━━━━━━━━━━━━\u001b[0m\u001b[37m\u001b[0m \u001b[1m0s\u001b[0m 0us/step\n",
            "Downloading data from https://storage.googleapis.com/tensorflow/tf-keras-datasets/t10k-images-idx3-ubyte.gz\n",
            "\u001b[1m4422102/4422102\u001b[0m \u001b[32m━━━━━━━━━━━━━━━━━━━━\u001b[0m\u001b[37m\u001b[0m \u001b[1m1s\u001b[0m 0us/step\n"
          ]
        }
      ]
    },
    {
      "cell_type": "code",
      "source": [
        "# 정규화 (0~1)\n",
        "x_train = x_train / 255.0\n",
        "x_test = x_test / 255.0"
      ],
      "metadata": {
        "id": "lIPklJIgda3e"
      },
      "execution_count": 3,
      "outputs": []
    },
    {
      "cell_type": "code",
      "source": [
        "# DNN 모델 구성\n",
        "model_dnn = models.Sequential([\n",
        "    layers.Flatten(input_shape=(28, 28)),\n",
        "    layers.Dense(256, activation='relu'),\n",
        "    layers.Dropout(0.3),\n",
        "    layers.Dense(128, activation='relu'),\n",
        "    layers.Dropout(0.3),\n",
        "    layers.Dense(10, activation='softmax')\n",
        "])"
      ],
      "metadata": {
        "colab": {
          "base_uri": "https://localhost:8080/"
        },
        "id": "AOsjsPiedcpF",
        "outputId": "6f5433b9-2951-434b-adc9-ce5dc2d3ec1d"
      },
      "execution_count": 4,
      "outputs": [
        {
          "output_type": "stream",
          "name": "stderr",
          "text": [
            "/usr/local/lib/python3.12/dist-packages/keras/src/layers/reshaping/flatten.py:37: UserWarning: Do not pass an `input_shape`/`input_dim` argument to a layer. When using Sequential models, prefer using an `Input(shape)` object as the first layer in the model instead.\n",
            "  super().__init__(**kwargs)\n"
          ]
        }
      ]
    },
    {
      "cell_type": "code",
      "source": [
        "# 컴파일\n",
        "model_dnn.compile(optimizer='adam',\n",
        "                  loss='sparse_categorical_crossentropy',\n",
        "                  metrics=['accuracy'])"
      ],
      "metadata": {
        "id": "wZ11YTradfbW"
      },
      "execution_count": 5,
      "outputs": []
    },
    {
      "cell_type": "code",
      "source": [
        "# 학습\n",
        "history_dnn = model_dnn.fit(x_train, y_train, epochs=10,\n",
        "                            validation_split=0.1, batch_size=128, verbose=2)"
      ],
      "metadata": {
        "colab": {
          "base_uri": "https://localhost:8080/"
        },
        "id": "A6QJPWd4dist",
        "outputId": "5ba51025-7864-4e60-ed0e-f4850f9b0c22"
      },
      "execution_count": 6,
      "outputs": [
        {
          "output_type": "stream",
          "name": "stdout",
          "text": [
            "Epoch 1/10\n",
            "422/422 - 7s - 17ms/step - accuracy: 0.7737 - loss: 0.6375 - val_accuracy: 0.8480 - val_loss: 0.4154\n",
            "Epoch 2/10\n",
            "422/422 - 1s - 3ms/step - accuracy: 0.8412 - loss: 0.4396 - val_accuracy: 0.8540 - val_loss: 0.3813\n",
            "Epoch 3/10\n",
            "422/422 - 1s - 2ms/step - accuracy: 0.8566 - loss: 0.3972 - val_accuracy: 0.8713 - val_loss: 0.3494\n",
            "Epoch 4/10\n",
            "422/422 - 1s - 3ms/step - accuracy: 0.8649 - loss: 0.3762 - val_accuracy: 0.8660 - val_loss: 0.3518\n",
            "Epoch 5/10\n",
            "422/422 - 1s - 2ms/step - accuracy: 0.8691 - loss: 0.3575 - val_accuracy: 0.8773 - val_loss: 0.3450\n",
            "Epoch 6/10\n",
            "422/422 - 1s - 3ms/step - accuracy: 0.8733 - loss: 0.3450 - val_accuracy: 0.8772 - val_loss: 0.3310\n",
            "Epoch 7/10\n",
            "422/422 - 1s - 2ms/step - accuracy: 0.8780 - loss: 0.3307 - val_accuracy: 0.8822 - val_loss: 0.3248\n",
            "Epoch 8/10\n",
            "422/422 - 1s - 3ms/step - accuracy: 0.8820 - loss: 0.3228 - val_accuracy: 0.8805 - val_loss: 0.3241\n",
            "Epoch 9/10\n",
            "422/422 - 2s - 4ms/step - accuracy: 0.8829 - loss: 0.3151 - val_accuracy: 0.8845 - val_loss: 0.3242\n",
            "Epoch 10/10\n",
            "422/422 - 1s - 3ms/step - accuracy: 0.8864 - loss: 0.3069 - val_accuracy: 0.8872 - val_loss: 0.3152\n"
          ]
        }
      ]
    },
    {
      "cell_type": "code",
      "source": [
        "import tensorflow as tf\n",
        "import numpy as np\n",
        "from tensorflow.keras import layers, models"
      ],
      "metadata": {
        "id": "UjvfgmwCewur"
      },
      "execution_count": 7,
      "outputs": []
    },
    {
      "cell_type": "code",
      "source": [
        "# 1️⃣ 데이터 로드\n",
        "fashion_mnist = tf.keras.datasets.fashion_mnist\n",
        "(x_train, y_train), (x_test, y_test) = fashion_mnist.load_data()"
      ],
      "metadata": {
        "id": "wQMq1rTney0R"
      },
      "execution_count": 8,
      "outputs": []
    },
    {
      "cell_type": "code",
      "source": [
        "# 2️⃣ 정규화\n",
        "x_train = x_train / 255.0\n",
        "x_test = x_test / 255.0"
      ],
      "metadata": {
        "id": "lh9cWbhNe0h-"
      },
      "execution_count": 9,
      "outputs": []
    },
    {
      "cell_type": "code",
      "source": [
        "# 3️⃣ 채널 차원 추가 (np.expand_dims 이용)\n",
        "x_train = np.expand_dims(x_train, -1)\n",
        "x_test = np.expand_dims(x_test, -1)"
      ],
      "metadata": {
        "id": "lslttf-Te2Ku"
      },
      "execution_count": 10,
      "outputs": []
    },
    {
      "cell_type": "code",
      "source": [
        "print(\"x_train shape:\", x_train.shape)  # (60000, 28, 28, 1)\n",
        "print(\"x_test shape:\", x_test.shape)    # (10000, 28, 28, 1)"
      ],
      "metadata": {
        "colab": {
          "base_uri": "https://localhost:8080/"
        },
        "id": "wqxMyeW3e3tz",
        "outputId": "fc3b55c7-5e54-4e2b-a26f-f5ee2474ed9a"
      },
      "execution_count": 11,
      "outputs": [
        {
          "output_type": "stream",
          "name": "stdout",
          "text": [
            "x_train shape: (60000, 28, 28, 1)\n",
            "x_test shape: (10000, 28, 28, 1)\n"
          ]
        }
      ]
    },
    {
      "cell_type": "code",
      "source": [
        "# 4️⃣ CNN 모델 구성\n",
        "model = models.Sequential([\n",
        "    layers.Conv2D(32, (3, 3), activation='relu', input_shape=(28, 28, 1)),\n",
        "    layers.MaxPooling2D((2, 2)),\n",
        "    layers.Conv2D(64, (3, 3), activation='relu'),\n",
        "    layers.MaxPooling2D((2, 2)),\n",
        "    layers.Conv2D(128, (3, 3), activation='relu'),\n",
        "    layers.Flatten(),\n",
        "    layers.Dropout(0.4),\n",
        "    layers.Dense(128, activation='relu'),\n",
        "    layers.Dense(10, activation='softmax')\n",
        "])"
      ],
      "metadata": {
        "colab": {
          "base_uri": "https://localhost:8080/"
        },
        "id": "wgk90BWie5tJ",
        "outputId": "b2955d0a-cb67-42ae-9e32-ec08a346276d"
      },
      "execution_count": 12,
      "outputs": [
        {
          "output_type": "stream",
          "name": "stderr",
          "text": [
            "/usr/local/lib/python3.12/dist-packages/keras/src/layers/convolutional/base_conv.py:113: UserWarning: Do not pass an `input_shape`/`input_dim` argument to a layer. When using Sequential models, prefer using an `Input(shape)` object as the first layer in the model instead.\n",
            "  super().__init__(activity_regularizer=activity_regularizer, **kwargs)\n"
          ]
        }
      ]
    },
    {
      "cell_type": "code",
      "source": [
        "# 5️⃣ 컴파일\n",
        "model.compile(optimizer='adam',\n",
        "              loss='sparse_categorical_crossentropy',\n",
        "              metrics=['accuracy'])"
      ],
      "metadata": {
        "id": "4pVyMt7Ze7rA"
      },
      "execution_count": 13,
      "outputs": []
    },
    {
      "cell_type": "code",
      "source": [
        "# 6️⃣ 학습\n",
        "history = model.fit(\n",
        "    x_train, y_train,\n",
        "    epochs=10,\n",
        "    batch_size=128,\n",
        "    validation_split=0.1,\n",
        "    verbose=2\n",
        ")\n"
      ],
      "metadata": {
        "colab": {
          "base_uri": "https://localhost:8080/"
        },
        "id": "A780A-s_e9F4",
        "outputId": "7f9d289b-bb06-464f-9d5f-3f2ecd78856b"
      },
      "execution_count": 14,
      "outputs": [
        {
          "output_type": "stream",
          "name": "stdout",
          "text": [
            "Epoch 1/10\n",
            "422/422 - 10s - 24ms/step - accuracy: 0.7754 - loss: 0.6121 - val_accuracy: 0.8520 - val_loss: 0.4038\n",
            "Epoch 2/10\n",
            "422/422 - 2s - 4ms/step - accuracy: 0.8611 - loss: 0.3866 - val_accuracy: 0.8790 - val_loss: 0.3364\n",
            "Epoch 3/10\n",
            "422/422 - 2s - 5ms/step - accuracy: 0.8786 - loss: 0.3327 - val_accuracy: 0.8892 - val_loss: 0.2954\n",
            "Epoch 4/10\n",
            "422/422 - 2s - 5ms/step - accuracy: 0.8899 - loss: 0.2988 - val_accuracy: 0.8847 - val_loss: 0.2976\n",
            "Epoch 5/10\n",
            "422/422 - 2s - 4ms/step - accuracy: 0.8979 - loss: 0.2764 - val_accuracy: 0.9018 - val_loss: 0.2665\n",
            "Epoch 6/10\n",
            "422/422 - 2s - 4ms/step - accuracy: 0.9046 - loss: 0.2596 - val_accuracy: 0.9028 - val_loss: 0.2582\n",
            "Epoch 7/10\n",
            "422/422 - 2s - 4ms/step - accuracy: 0.9086 - loss: 0.2458 - val_accuracy: 0.9027 - val_loss: 0.2577\n",
            "Epoch 8/10\n",
            "422/422 - 2s - 4ms/step - accuracy: 0.9140 - loss: 0.2305 - val_accuracy: 0.9100 - val_loss: 0.2489\n",
            "Epoch 9/10\n",
            "422/422 - 2s - 5ms/step - accuracy: 0.9188 - loss: 0.2193 - val_accuracy: 0.9137 - val_loss: 0.2336\n",
            "Epoch 10/10\n",
            "422/422 - 2s - 5ms/step - accuracy: 0.9218 - loss: 0.2080 - val_accuracy: 0.9170 - val_loss: 0.2271\n"
          ]
        }
      ]
    },
    {
      "cell_type": "code",
      "source": [
        "# 7️⃣ 평가\n",
        "test_loss, test_acc = model.evaluate(x_test, y_test, verbose=2)\n",
        "print(f\"\\n✅ Test Accuracy: {test_acc:.4f}\")"
      ],
      "metadata": {
        "colab": {
          "base_uri": "https://localhost:8080/"
        },
        "id": "ZLCwhR4BfYP-",
        "outputId": "026203a4-c431-4b61-ac99-9863b7aac2b3"
      },
      "execution_count": 15,
      "outputs": [
        {
          "output_type": "stream",
          "name": "stdout",
          "text": [
            "313/313 - 2s - 6ms/step - accuracy: 0.9107 - loss: 0.2415\n",
            "\n",
            "✅ Test Accuracy: 0.9107\n"
          ]
        }
      ]
    },
    {
      "cell_type": "code",
      "source": [
        "# 8️⃣ 예측 예시\n",
        "predictions = model.predict(x_test[:5])\n",
        "print(\"예측 결과:\", np.argmax(predictions, axis=1))\n",
        "print(\"실제 레이블:\", y_test[:5])"
      ],
      "metadata": {
        "colab": {
          "base_uri": "https://localhost:8080/"
        },
        "id": "-gnDPtUpfbHk",
        "outputId": "eb9fa845-e7b0-437a-b186-1cd5e985ce7b"
      },
      "execution_count": 16,
      "outputs": [
        {
          "output_type": "stream",
          "name": "stdout",
          "text": [
            "\u001b[1m1/1\u001b[0m \u001b[32m━━━━━━━━━━━━━━━━━━━━\u001b[0m\u001b[37m\u001b[0m \u001b[1m1s\u001b[0m 542ms/step\n",
            "예측 결과: [9 2 1 1 6]\n",
            "실제 레이블: [9 2 1 1 6]\n"
          ]
        }
      ]
    }
  ]
}