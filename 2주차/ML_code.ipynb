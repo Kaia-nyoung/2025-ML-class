{
  "nbformat": 4,
  "nbformat_minor": 0,
  "metadata": {
    "colab": {
      "provenance": [],
      "mount_file_id": "15260wqLaQpElYZnebYsWDKirFC90QQ_X",
      "authorship_tag": "ABX9TyPMFTAcj9VUfXdkIcH8XmqF",
      "include_colab_link": true
    },
    "kernelspec": {
      "name": "python3",
      "display_name": "Python 3"
    },
    "language_info": {
      "name": "python"
    }
  },
  "cells": [
    {
      "cell_type": "markdown",
      "metadata": {
        "id": "view-in-github",
        "colab_type": "text"
      },
      "source": [
        "<a href=\"https://colab.research.google.com/github/Kaia-nyoung/2025-ML-class/blob/main/2%EC%A3%BC%EC%B0%A8/ML_code.ipynb\" target=\"_parent\"><img src=\"https://colab.research.google.com/assets/colab-badge.svg\" alt=\"Open In Colab\"/></a>"
      ]
    },
    {
      "cell_type": "code",
      "execution_count": 2,
      "metadata": {
        "colab": {
          "base_uri": "https://localhost:8080/"
        },
        "id": "I8AXI8u-_m77",
        "outputId": "9c177707-cd26-4daa-a53e-ab329cd366d5"
      },
      "outputs": [
        {
          "output_type": "stream",
          "name": "stdout",
          "text": [
            "=== Test Accuracy ===\n",
            "Decision Tree : 0.9333\n",
            "Random Forest : 0.9000\n",
            "Logistic Reg. : 0.9667\n"
          ]
        }
      ],
      "source": [
        "import pandas as pd\n",
        "\n",
        "from sklearn.model_selection import train_test_split\n",
        "\n",
        "from sklearn.tree import DecisionTreeClassifier\n",
        "\n",
        "from sklearn.ensemble import RandomForestClassifier\n",
        "\n",
        "from sklearn.linear_model import LogisticRegression\n",
        "\n",
        "from sklearn.metrics import accuracy_score\n",
        "\n",
        "\n",
        "\n",
        "# -----------------------------\n",
        "\n",
        "# 1) 데이터 준비\n",
        "\n",
        "# -----------------------------\n",
        "\n",
        "cols = [\"sepal_length\", \"sepal_width\", \"petal_length\", \"petal_width\", \"label\"]\n",
        "\n",
        "df = pd.read_csv(\"/content/drive/MyDrive/ML-MK/iris.data\", header=None, names=cols).dropna()\n",
        "\n",
        "\n",
        "\n",
        "X = df.drop(columns=[\"label\"])\n",
        "\n",
        "y = df[\"label\"]\n",
        "\n",
        "\n",
        "\n",
        "X_train, X_test, y_train, y_test = train_test_split(\n",
        "\n",
        "    X, y, test_size=0.2, stratify=y, random_state=42\n",
        "\n",
        ")\n",
        "\n",
        "\n",
        "\n",
        "# -----------------------------\n",
        "\n",
        "# 2) 모델 구성\n",
        "\n",
        "# -----------------------------\n",
        "\n",
        "dt = DecisionTreeClassifier(random_state=42)\n",
        "\n",
        "rf = RandomForestClassifier(n_estimators=200, random_state=42)\n",
        "\n",
        "lr = LogisticRegression(max_iter=500)\n",
        "\n",
        "\n",
        "\n",
        "# -----------------------------\n",
        "\n",
        "# 3) 모델 학습\n",
        "\n",
        "# -----------------------------\n",
        "\n",
        "dt.fit(X_train, y_train)\n",
        "\n",
        "rf.fit(X_train, y_train)\n",
        "\n",
        "lr.fit(X_train, y_train)\n",
        "\n",
        "\n",
        "\n",
        "# -----------------------------\n",
        "\n",
        "# 4) 모델 평가\n",
        "\n",
        "# -----------------------------\n",
        "\n",
        "dt_acc = accuracy_score(y_test, dt.predict(X_test))\n",
        "\n",
        "rf_acc = accuracy_score(y_test, rf.predict(X_test))\n",
        "\n",
        "lr_acc = accuracy_score(y_test, lr.predict(X_test))\n",
        "\n",
        "\n",
        "\n",
        "print(\"=== Test Accuracy ===\")\n",
        "\n",
        "print(f\"Decision Tree : {dt_acc:.4f}\")\n",
        "\n",
        "print(f\"Random Forest : {rf_acc:.4f}\")\n",
        "\n",
        "print(f\"Logistic Reg. : {lr_acc:.4f}\")\n",
        "\n"
      ]
    }
  ]
}